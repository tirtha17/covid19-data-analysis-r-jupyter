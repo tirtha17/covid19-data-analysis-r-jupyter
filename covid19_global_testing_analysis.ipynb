{
 "cells": [
  {
   "cell_type": "code",
   "execution_count": 1,
   "metadata": {},
   "outputs": [],
   "source": [
    "# This lab requires 'httr' and 'rvest'packages, which are already pre-loaded into this lab environment.\n",
    "# However, if you are working on your local RStudio, please uncomment the below codes and install the packages.\n",
    "\n",
    "#install.packages(\"httr\")\n",
    "#install.packages(\"rvest\")"
   ]
  },
  {
   "cell_type": "code",
   "execution_count": 2,
   "metadata": {},
   "outputs": [
    {
     "name": "stderr",
     "output_type": "stream",
     "text": [
      "Loading required package: xml2\n",
      "Registered S3 method overwritten by 'rvest':\n",
      "  method            from\n",
      "  read_xml.response xml2\n"
     ]
    }
   ],
   "source": [
    "library(httr)\n",
    "library(rvest)"
   ]
  },
  {
   "cell_type": "markdown",
   "metadata": {},
   "source": [
    "## TASK 1: Get a `COVID-19 pandemic` Wiki page using HTTP request\n"
   ]
  },
  {
   "cell_type": "markdown",
   "metadata": {},
   "source": [
    "First, let's write a function to use HTTP request to get a public COVID-19 Wiki page.\n"
   ]
  },
  {
   "cell_type": "code",
   "execution_count": 3,
   "metadata": {},
   "outputs": [],
   "source": [
    "\n",
    "get_wiki_covid19_page <- function() {\n",
    "    \n",
    "    \n",
    "  # Wiki page base\n",
    "    wiki_base_url <- \"https://en.wikipedia.org/w/index.php\"\n",
    "    title<- \"title=Template:COVID-19_testing_by_country\"\n",
    "    \n",
    "  # - Use the `GET` function in httr library with a `url` argument and a `query` arugment to get a HTTP response\n",
    "    response <- GET(wiki_base_url, query=title)\n",
    "  # Use the `return` function to return the response\n",
    "    return (response)\n",
    "\n",
    "}\n",
    "\n",
    "\n"
   ]
  },
  {
   "cell_type": "markdown",
   "metadata": {},
   "source": [
    "Call the `get_wiki_covid19_page` function to get a http response with the target html page\n"
   ]
  },
  {
   "cell_type": "code",
   "execution_count": 4,
   "metadata": {},
   "outputs": [
    {
     "data": {
      "text/plain": [
       "Response [https://en.wikipedia.org/w/index.php?title=Template:COVID-19_testing_by_country]\n",
       "  Date: 2025-08-08 19:06\n",
       "  Status: 200\n",
       "  Content-Type: text/html; charset=UTF-8\n",
       "  Size: 448 kB\n",
       "<!DOCTYPE html>\n",
       "<html class=\"client-nojs vector-feature-language-in-header-enabled vector-fea...\n",
       "<head>\n",
       "<meta charset=\"UTF-8\">\n",
       "<title>Template:COVID-19 testing by country - Wikipedia</title>\n",
       "<script>(function(){var className=\"client-js vector-feature-language-in-heade...\n",
       "RLSTATE={\"ext.globalCssJs.user.styles\":\"ready\",\"site.styles\":\"ready\",\"user.st...\n",
       "<script>(RLQ=window.RLQ||[]).push(function(){mw.loader.impl(function(){return...\n",
       "}];});});</script>\n",
       "<link rel=\"stylesheet\" href=\"/w/load.php?lang=en&amp;modules=ext.cite.styles%...\n",
       "..."
      ]
     },
     "metadata": {},
     "output_type": "display_data"
    }
   ],
   "source": [
    "# Call the get_wiki_covid19_page function and print the response\n",
    "response_html<- get_wiki_covid19_page()\n",
    "response_html"
   ]
  },
  {
   "cell_type": "markdown",
   "metadata": {},
   "source": [
    "## TASK 2: Extract COVID-19 testing data table from the wiki HTML page\n"
   ]
  },
  {
   "cell_type": "code",
   "execution_count": 5,
   "metadata": {},
   "outputs": [
    {
     "data": {
      "text/plain": [
       "{xml_document}\n",
       "<html class=\"client-nojs vector-feature-language-in-header-enabled vector-feature-language-in-main-page-header-disabled vector-feature-page-tools-pinned-disabled vector-feature-toc-pinned-clientpref-1 vector-feature-main-menu-pinned-disabled vector-feature-limited-width-clientpref-1 vector-feature-limited-width-content-enabled vector-feature-custom-font-size-clientpref-1 vector-feature-appearance-pinned-clientpref-1 vector-feature-night-mode-enabled skin-theme-clientpref-day vector-sticky-header-enabled vector-toc-available\" lang=\"en\" dir=\"ltr\">\n",
       "[1] <head>\\n<meta http-equiv=\"Content-Type\" content=\"text/html; charset=UTF-8 ...\n",
       "[2] <body class=\"skin--responsive skin-vector skin-vector-search-vue mediawik ..."
      ]
     },
     "metadata": {},
     "output_type": "display_data"
    }
   ],
   "source": [
    "# Get the root html node from the http response in task 1 \n",
    "root_node<- read_html(response_html)\n",
    "root_node"
   ]
  },
  {
   "cell_type": "markdown",
   "metadata": {},
   "source": [
    "Get the tables in the HTML root node using `html_nodes` function.\n"
   ]
  },
  {
   "cell_type": "code",
   "execution_count": 6,
   "metadata": {
    "scrolled": true
   },
   "outputs": [
    {
     "data": {
      "text/plain": [
       "{xml_nodeset (4)}\n",
       "[1] <table class=\"box-Update plainlinks ombox ombox-content ambox-Update\" rol ...\n",
       "[2] <table class=\"wikitable plainrowheaders sortable collapsible autocollapse ...\n",
       "[3] <table class=\"plainlinks ombox mbox-small ombox-notice\" role=\"presentatio ...\n",
       "[4] <table class=\"wikitable mw-templatedata-doc-params\">\\n<caption><p class=\" ..."
      ]
     },
     "metadata": {},
     "output_type": "display_data"
    }
   ],
   "source": [
    "# Get the table node from the root html node\n",
    "table_node <- html_nodes(root_node, \"table\")\n",
    "table_node"
   ]
  },
  {
   "cell_type": "code",
   "execution_count": 7,
   "metadata": {},
   "outputs": [
    {
     "data": {
      "text/html": [
       "<table>\n",
       "<thead><tr><th scope=col>Country or region</th><th scope=col>Date[a]</th><th scope=col>Tested</th><th scope=col>Units[b]</th><th scope=col>Confirmed(cases)</th><th scope=col>Confirmed /tested,%</th><th scope=col>Tested /population,%</th><th scope=col>Confirmed /population,%</th><th scope=col>Ref.</th></tr></thead>\n",
       "<tbody>\n",
       "\t<tr><td>Afghanistan        </td><td>17 Dec 2020        </td><td>154,767            </td><td>samples            </td><td>49,621             </td><td>32.1               </td><td>0.40               </td><td>0.13               </td><td>[1]                </td></tr>\n",
       "\t<tr><td>Albania            </td><td>18 Feb 2021        </td><td>428,654            </td><td>samples            </td><td>96,838             </td><td>22.6               </td><td>15.0               </td><td>3.4                </td><td>[2]                </td></tr>\n",
       "\t<tr><td>Algeria            </td><td>2 Nov 2020         </td><td>230,553            </td><td>samples            </td><td>58,574             </td><td>25.4               </td><td>0.53               </td><td>0.13               </td><td>[3][4]             </td></tr>\n",
       "\t<tr><td>Andorra            </td><td>23 Feb 2022        </td><td>300,307            </td><td>samples            </td><td>37,958             </td><td>12.6               </td><td>387                </td><td>49.0               </td><td>[5]                </td></tr>\n",
       "\t<tr><td>Angola             </td><td>2 Feb 2021         </td><td>399,228            </td><td>samples            </td><td>20,981             </td><td>5.3                </td><td>1.3                </td><td>0.067              </td><td>[6]                </td></tr>\n",
       "\t<tr><td>Antigua and Barbuda</td><td>6 Mar 2021         </td><td>15,268             </td><td>samples            </td><td>832                </td><td>5.4                </td><td>15.9               </td><td>0.86               </td><td>[7]                </td></tr>\n",
       "</tbody>\n",
       "</table>\n"
      ],
      "text/latex": [
       "\\begin{tabular}{r|lllllllll}\n",
       " Country or region & Date{[}a{]} & Tested & Units{[}b{]} & Confirmed(cases) & Confirmed /tested,\\% & Tested /population,\\% & Confirmed /population,\\% & Ref.\\\\\n",
       "\\hline\n",
       "\t Afghanistan         & 17 Dec 2020         & 154,767             & samples             & 49,621              & 32.1                & 0.40                & 0.13                & {[}1{]}            \\\\\n",
       "\t Albania             & 18 Feb 2021         & 428,654             & samples             & 96,838              & 22.6                & 15.0                & 3.4                 & {[}2{]}            \\\\\n",
       "\t Algeria             & 2 Nov 2020          & 230,553             & samples             & 58,574              & 25.4                & 0.53                & 0.13                & {[}3{]}{[}4{]}     \\\\\n",
       "\t Andorra             & 23 Feb 2022         & 300,307             & samples             & 37,958              & 12.6                & 387                 & 49.0                & {[}5{]}            \\\\\n",
       "\t Angola              & 2 Feb 2021          & 399,228             & samples             & 20,981              & 5.3                 & 1.3                 & 0.067               & {[}6{]}            \\\\\n",
       "\t Antigua and Barbuda & 6 Mar 2021          & 15,268              & samples             & 832                 & 5.4                 & 15.9                & 0.86                & {[}7{]}            \\\\\n",
       "\\end{tabular}\n"
      ],
      "text/markdown": [
       "\n",
       "| Country or region | Date[a] | Tested | Units[b] | Confirmed(cases) | Confirmed /tested,% | Tested /population,% | Confirmed /population,% | Ref. |\n",
       "|---|---|---|---|---|---|---|---|---|\n",
       "| Afghanistan         | 17 Dec 2020         | 154,767             | samples             | 49,621              | 32.1                | 0.40                | 0.13                | [1]                 |\n",
       "| Albania             | 18 Feb 2021         | 428,654             | samples             | 96,838              | 22.6                | 15.0                | 3.4                 | [2]                 |\n",
       "| Algeria             | 2 Nov 2020          | 230,553             | samples             | 58,574              | 25.4                | 0.53                | 0.13                | [3][4]              |\n",
       "| Andorra             | 23 Feb 2022         | 300,307             | samples             | 37,958              | 12.6                | 387                 | 49.0                | [5]                 |\n",
       "| Angola              | 2 Feb 2021          | 399,228             | samples             | 20,981              | 5.3                 | 1.3                 | 0.067               | [6]                 |\n",
       "| Antigua and Barbuda | 6 Mar 2021          | 15,268              | samples             | 832                 | 5.4                 | 15.9                | 0.86                | [7]                 |\n",
       "\n"
      ],
      "text/plain": [
       "  Country or region   Date[a]     Tested  Units[b] Confirmed(cases)\n",
       "1 Afghanistan         17 Dec 2020 154,767 samples  49,621          \n",
       "2 Albania             18 Feb 2021 428,654 samples  96,838          \n",
       "3 Algeria             2 Nov 2020  230,553 samples  58,574          \n",
       "4 Andorra             23 Feb 2022 300,307 samples  37,958          \n",
       "5 Angola              2 Feb 2021  399,228 samples  20,981          \n",
       "6 Antigua and Barbuda 6 Mar 2021  15,268  samples  832             \n",
       "  Confirmed /tested,% Tested /population,% Confirmed /population,% Ref.  \n",
       "1 32.1                0.40                 0.13                    [1]   \n",
       "2 22.6                15.0                 3.4                     [2]   \n",
       "3 25.4                0.53                 0.13                    [3][4]\n",
       "4 12.6                387                  49.0                    [5]   \n",
       "5 5.3                 1.3                  0.067                   [6]   \n",
       "6 5.4                 15.9                 0.86                    [7]   "
      ]
     },
     "metadata": {},
     "output_type": "display_data"
    }
   ],
   "source": [
    "# Read the table node and convert it into a data frame, and print the data frame for review\n",
    "tables <- html_table(table_node)\n",
    "df<-tables[[2]]\n",
    "head(df)"
   ]
  },
  {
   "cell_type": "markdown",
   "metadata": {},
   "source": [
    "## TASK 3: Pre-process and export the extracted data frame\n",
    "\n",
    " Pre-process the extracted data frame from the previous step, and export it as a csv file\n"
   ]
  },
  {
   "cell_type": "markdown",
   "metadata": {},
   "source": [
    "Let's get a summary of the data frame\n"
   ]
  },
  {
   "cell_type": "code",
   "execution_count": 8,
   "metadata": {},
   "outputs": [
    {
     "data": {
      "text/plain": [
       " Country or region    Date[a]             Tested            Units[b]        \n",
       " Length:173         Length:173         Length:173         Length:173        \n",
       " Class :character   Class :character   Class :character   Class :character  \n",
       " Mode  :character   Mode  :character   Mode  :character   Mode  :character  \n",
       " Confirmed(cases)   Confirmed /tested,% Tested /population,%\n",
       " Length:173         Length:173          Length:173          \n",
       " Class :character   Class :character    Class :character    \n",
       " Mode  :character   Mode  :character    Mode  :character    \n",
       " Confirmed /population,%     Ref.          \n",
       " Length:173              Length:173        \n",
       " Class :character        Class :character  \n",
       " Mode  :character        Mode  :character  "
      ]
     },
     "metadata": {},
     "output_type": "display_data"
    }
   ],
   "source": [
    "# Print the summary of the data frame\n",
    "summary(df)"
   ]
  },
  {
   "cell_type": "markdown",
   "metadata": {},
   "source": [
    "As you can see from the summary, the columns names are little bit different to understand and some column data types are not correct. For example, the `Tested` column shows as `character`. \n",
    "\n",
    "As such, the data frame read from HTML table will need some pre-processing such as removing irrelvant columns, renaming columns, and convert columns into proper data types.\n"
   ]
  },
  {
   "cell_type": "code",
   "execution_count": 9,
   "metadata": {},
   "outputs": [],
   "source": [
    "#pre-processing function to convert the data frame\n",
    "\n",
    "preprocess_covid_data_frame <- function(data_frame) {\n",
    "    \n",
    "    shape <- dim(data_frame)\n",
    "\n",
    "    # Remove the World row\n",
    "    data_frame<-data_frame[!(data_frame$`Country.or.region`==\"World\"),]\n",
    "    # Remove the last row\n",
    "    data_frame <- data_frame[1:172, ]\n",
    "    \n",
    "    # We dont need the Units and Ref columns, so can be removed\n",
    "    data_frame[\"Ref.\"] <- NULL\n",
    "    data_frame[\"Units[b]\"] <- NULL\n",
    "    \n",
    "    # Renaming the columns\n",
    "    names(data_frame) <- c(\"country\", \"date\", \"tested\", \"confirmed\", \"confirmed.tested.ratio\", \"tested.population.ratio\", \"confirmed.population.ratio\")\n",
    "    \n",
    "    # Convert column data types\n",
    "    data_frame$country <- as.factor(data_frame$country)\n",
    "    data_frame$date <- as.factor(data_frame$date)\n",
    "    data_frame$tested <- as.numeric(gsub(\",\",\"\",data_frame$tested))\n",
    "    data_frame$confirmed <- as.numeric(gsub(\",\",\"\",data_frame$confirmed))\n",
    "    data_frame$'confirmed.tested.ratio' <- as.numeric(gsub(\",\",\"\",data_frame$`confirmed.tested.ratio`))\n",
    "    data_frame$'tested.population.ratio' <- as.numeric(gsub(\",\",\"\",data_frame$`tested.population.ratio`))\n",
    "    data_frame$'confirmed.population.ratio' <- as.numeric(gsub(\",\",\"\",data_frame$`confirmed.population.ratio`))\n",
    "    \n",
    "    return(data_frame)\n",
    "}\n"
   ]
  },
  {
   "cell_type": "markdown",
   "metadata": {},
   "source": [
    "Call the `preprocess_covid_data_frame` function\n"
   ]
  },
  {
   "cell_type": "code",
   "execution_count": 10,
   "metadata": {},
   "outputs": [],
   "source": [
    "# call `preprocess_covid_data_frame` function and assign it to a new data frame\n",
    "\n",
    "#running manually for preprocessing\n",
    "\n",
    "    # Remove the World row\n",
    "    clean_df<-df[!(df$`Country.or.region`==\"World\"),]\n",
    "    # Remove the last row\n",
    "    clean_df <- df[1:172, ]\n",
    "    \n",
    "    # We dont need the Units and Ref columns, so can be removed\n",
    "    clean_df[\"Ref.\"] <- NULL\n",
    "    clean_df[\"Units[b]\"] <- NULL\n",
    "    \n",
    "    # Renaming the columns\n",
    "    names(clean_df) <- c(\"country\", \"date\", \"tested\", \"confirmed\", \"confirmed.tested.ratio\", \"tested.population.ratio\", \"confirmed.population.ratio\")\n",
    "     # Convert column data types\n",
    "    clean_df$country <- as.character(clean_df$country)\n",
    "    clean_df$date <- as.Date(clean_df$date, format = \"%d %b %Y\")\n",
    "    clean_df$tested <- as.numeric(gsub(\",\",\"\",clean_df$tested))\n",
    "    clean_df$confirmed <- as.numeric(gsub(\",\",\"\",clean_df$confirmed))\n",
    "    clean_df$'confirmed.tested.ratio' <- as.numeric(gsub(\",\",\"\",clean_df$`confirmed.tested.ratio`))\n",
    "    clean_df$'tested.population.ratio' <- as.numeric(gsub(\",\",\"\",clean_df$`tested.population.ratio`))\n",
    "    clean_df$'confirmed.population.ratio' <- as.numeric(gsub(\",\",\"\",clean_df$`confirmed.population.ratio`))"
   ]
  },
  {
   "cell_type": "code",
   "execution_count": 11,
   "metadata": {},
   "outputs": [
    {
     "data": {
      "text/html": [
       "<table>\n",
       "<thead><tr><th scope=col>country</th><th scope=col>date</th><th scope=col>tested</th><th scope=col>confirmed</th><th scope=col>confirmed.tested.ratio</th><th scope=col>tested.population.ratio</th><th scope=col>confirmed.population.ratio</th></tr></thead>\n",
       "<tbody>\n",
       "\t<tr><td>Afghanistan        </td><td>2020-12-17         </td><td>154767             </td><td>49621              </td><td>32.1               </td><td>  0.40             </td><td> 0.130             </td></tr>\n",
       "\t<tr><td>Albania            </td><td>2021-02-18         </td><td>428654             </td><td>96838              </td><td>22.6               </td><td> 15.00             </td><td> 3.400             </td></tr>\n",
       "\t<tr><td>Algeria            </td><td>2020-11-02         </td><td>230553             </td><td>58574              </td><td>25.4               </td><td>  0.53             </td><td> 0.130             </td></tr>\n",
       "\t<tr><td>Andorra            </td><td>2022-02-23         </td><td>300307             </td><td>37958              </td><td>12.6               </td><td>387.00             </td><td>49.000             </td></tr>\n",
       "\t<tr><td>Angola             </td><td>2021-02-02         </td><td>399228             </td><td>20981              </td><td> 5.3               </td><td>  1.30             </td><td> 0.067             </td></tr>\n",
       "\t<tr><td>Antigua and Barbuda</td><td>2021-03-06         </td><td> 15268             </td><td>  832              </td><td> 5.4               </td><td> 15.90             </td><td> 0.860             </td></tr>\n",
       "</tbody>\n",
       "</table>\n"
      ],
      "text/latex": [
       "\\begin{tabular}{r|lllllll}\n",
       " country & date & tested & confirmed & confirmed.tested.ratio & tested.population.ratio & confirmed.population.ratio\\\\\n",
       "\\hline\n",
       "\t Afghanistan         & 2020-12-17          & 154767              & 49621               & 32.1                &   0.40              &  0.130             \\\\\n",
       "\t Albania             & 2021-02-18          & 428654              & 96838               & 22.6                &  15.00              &  3.400             \\\\\n",
       "\t Algeria             & 2020-11-02          & 230553              & 58574               & 25.4                &   0.53              &  0.130             \\\\\n",
       "\t Andorra             & 2022-02-23          & 300307              & 37958               & 12.6                & 387.00              & 49.000             \\\\\n",
       "\t Angola              & 2021-02-02          & 399228              & 20981               &  5.3                &   1.30              &  0.067             \\\\\n",
       "\t Antigua and Barbuda & 2021-03-06          &  15268              &   832               &  5.4                &  15.90              &  0.860             \\\\\n",
       "\\end{tabular}\n"
      ],
      "text/markdown": [
       "\n",
       "| country | date | tested | confirmed | confirmed.tested.ratio | tested.population.ratio | confirmed.population.ratio |\n",
       "|---|---|---|---|---|---|---|\n",
       "| Afghanistan         | 2020-12-17          | 154767              | 49621               | 32.1                |   0.40              |  0.130              |\n",
       "| Albania             | 2021-02-18          | 428654              | 96838               | 22.6                |  15.00              |  3.400              |\n",
       "| Algeria             | 2020-11-02          | 230553              | 58574               | 25.4                |   0.53              |  0.130              |\n",
       "| Andorra             | 2022-02-23          | 300307              | 37958               | 12.6                | 387.00              | 49.000              |\n",
       "| Angola              | 2021-02-02          | 399228              | 20981               |  5.3                |   1.30              |  0.067              |\n",
       "| Antigua and Barbuda | 2021-03-06          |  15268              |   832               |  5.4                |  15.90              |  0.860              |\n",
       "\n"
      ],
      "text/plain": [
       "  country             date       tested confirmed confirmed.tested.ratio\n",
       "1 Afghanistan         2020-12-17 154767 49621     32.1                  \n",
       "2 Albania             2021-02-18 428654 96838     22.6                  \n",
       "3 Algeria             2020-11-02 230553 58574     25.4                  \n",
       "4 Andorra             2022-02-23 300307 37958     12.6                  \n",
       "5 Angola              2021-02-02 399228 20981      5.3                  \n",
       "6 Antigua and Barbuda 2021-03-06  15268   832      5.4                  \n",
       "  tested.population.ratio confirmed.population.ratio\n",
       "1   0.40                   0.130                    \n",
       "2  15.00                   3.400                    \n",
       "3   0.53                   0.130                    \n",
       "4 387.00                  49.000                    \n",
       "5   1.30                   0.067                    \n",
       "6  15.90                   0.860                    "
      ]
     },
     "metadata": {},
     "output_type": "display_data"
    }
   ],
   "source": [
    "head(clean_df)"
   ]
  },
  {
   "cell_type": "markdown",
   "metadata": {},
   "source": [
    "Get the summary of the processed data frame again\n"
   ]
  },
  {
   "cell_type": "code",
   "execution_count": 12,
   "metadata": {},
   "outputs": [
    {
     "data": {
      "text/plain": [
       "   country               date                tested            confirmed       \n",
       " Length:172         Min.   :2020-07-31   Min.   :     3880   Min.   :       0  \n",
       " Class :character   1st Qu.:2021-05-30   1st Qu.:   512037   1st Qu.:   37839  \n",
       " Mode  :character   Median :2022-01-25   Median :  3029859   Median :  281196  \n",
       "                    Mean   :2022-01-17   Mean   : 31377219   Mean   : 2508340  \n",
       "                    3rd Qu.:2022-09-27   3rd Qu.: 12386725   3rd Qu.: 1278105  \n",
       "                    Max.   :2023-07-03   Max.   :929349291   Max.   :90749469  \n",
       " confirmed.tested.ratio tested.population.ratio confirmed.population.ratio\n",
       " Min.   : 0.00          Min.   :   0.006        Min.   : 0.000            \n",
       " 1st Qu.: 5.00          1st Qu.:   9.475        1st Qu.: 0.425            \n",
       " Median :10.05          Median :  46.950        Median : 6.100            \n",
       " Mean   :11.25          Mean   : 175.504        Mean   :12.769            \n",
       " 3rd Qu.:15.25          3rd Qu.: 156.500        3rd Qu.:16.250            \n",
       " Max.   :46.80          Max.   :3223.000        Max.   :74.400            "
      ]
     },
     "metadata": {},
     "output_type": "display_data"
    }
   ],
   "source": [
    "# Print the summary of the processed data frame again\n",
    "summary(clean_df)"
   ]
  },
  {
   "cell_type": "code",
   "execution_count": 13,
   "metadata": {},
   "outputs": [],
   "source": [
    "# Export the data frame to a csv file\n",
    "write.csv(clean_df,\"covid.csv\")"
   ]
  },
  {
   "cell_type": "code",
   "execution_count": 14,
   "metadata": {},
   "outputs": [
    {
     "name": "stdout",
     "output_type": "stream",
     "text": [
      "[1] \"C:/Users/abcha/anaconda_projects/Online_course_projects/Introduction to R Programming for Data Science - Coursera/covid.csv\"\n"
     ]
    },
    {
     "data": {
      "text/html": [
       "TRUE"
      ],
      "text/latex": [
       "TRUE"
      ],
      "text/markdown": [
       "TRUE"
      ],
      "text/plain": [
       "[1] TRUE"
      ]
     },
     "metadata": {},
     "output_type": "display_data"
    }
   ],
   "source": [
    "# Get working directory\n",
    "wd <- getwd()\n",
    "# Get exported \n",
    "file_path <- paste(wd, sep=\"\", \"/covid.csv\")\n",
    "# File path\n",
    "print(file_path)\n",
    "file.exists(file_path)"
   ]
  },
  {
   "cell_type": "markdown",
   "metadata": {},
   "source": [
    "## TASK 4: Get a subset of the extracted data frame\n",
    "\n",
    "The goal of task 4 is to get the 5th to 10th rows from the data frame with only `country` and `confirmed` columns selected\n"
   ]
  },
  {
   "cell_type": "code",
   "execution_count": 15,
   "metadata": {},
   "outputs": [
    {
     "data": {
      "text/html": [
       "<table>\n",
       "<thead><tr><th></th><th scope=col>country</th><th scope=col>confirmed</th></tr></thead>\n",
       "<tbody>\n",
       "\t<tr><th scope=row>5</th><td>Angola             </td><td>   20981           </td></tr>\n",
       "\t<tr><th scope=row>6</th><td>Antigua and Barbuda</td><td>     832           </td></tr>\n",
       "\t<tr><th scope=row>7</th><td>Argentina          </td><td> 9060495           </td></tr>\n",
       "\t<tr><th scope=row>8</th><td>Armenia            </td><td>  422963           </td></tr>\n",
       "\t<tr><th scope=row>9</th><td>Australia          </td><td>10112229           </td></tr>\n",
       "\t<tr><th scope=row>10</th><td>Austria            </td><td> 5789991           </td></tr>\n",
       "</tbody>\n",
       "</table>\n"
      ],
      "text/latex": [
       "\\begin{tabular}{r|ll}\n",
       "  & country & confirmed\\\\\n",
       "\\hline\n",
       "\t5 & Angola              &    20981           \\\\\n",
       "\t6 & Antigua and Barbuda &      832           \\\\\n",
       "\t7 & Argentina           &  9060495           \\\\\n",
       "\t8 & Armenia             &   422963           \\\\\n",
       "\t9 & Australia           & 10112229           \\\\\n",
       "\t10 & Austria             &  5789991           \\\\\n",
       "\\end{tabular}\n"
      ],
      "text/markdown": [
       "\n",
       "| <!--/--> | country | confirmed |\n",
       "|---|---|---|\n",
       "| 5 | Angola              |    20981            |\n",
       "| 6 | Antigua and Barbuda |      832            |\n",
       "| 7 | Argentina           |  9060495            |\n",
       "| 8 | Armenia             |   422963            |\n",
       "| 9 | Australia           | 10112229            |\n",
       "| 10 | Austria             |  5789991            |\n",
       "\n"
      ],
      "text/plain": [
       "   country             confirmed\n",
       "5  Angola                 20981 \n",
       "6  Antigua and Barbuda      832 \n",
       "7  Argentina            9060495 \n",
       "8  Armenia               422963 \n",
       "9  Australia           10112229 \n",
       "10 Austria              5789991 "
      ]
     },
     "metadata": {},
     "output_type": "display_data"
    }
   ],
   "source": [
    "# Read covid_data_frame_csv from the csv file\n",
    "\n",
    "covid_data_frame_csv<-read.csv(\"covid.csv\")\n",
    "\n",
    "# Get the 5th to 10th rows, with two \"country\" \"confirmed\" columns\n",
    "covid_data_frame_csv[5:10,c(\"country\" ,\"confirmed\" )]\n"
   ]
  },
  {
   "cell_type": "markdown",
   "metadata": {},
   "source": [
    "## TASK 5: Calculate worldwide COVID testing positive ratio\n",
    "\n",
    "The goal of task 5 is to get the total confirmed and tested cases worldwide, and try to figure the overall positive ratio using `confirmed cases / tested cases`\n"
   ]
  },
  {
   "cell_type": "code",
   "execution_count": 16,
   "metadata": {},
   "outputs": [
    {
     "name": "stdout",
     "output_type": "stream",
     "text": [
      "[1] \"confirmed cases:  431434555\"\n",
      "[1] \"tested cases:  5396881644\"\n",
      "[1] \"positive ratio (confirmed / tested):  0.0799414520197323\"\n"
     ]
    }
   ],
   "source": [
    "# Get the total confirmed cases worldwide\n",
    "\n",
    "confirmed_case <- sum(covid_data_frame_csv[\"confirmed\"])\n",
    "print(paste(\"confirmed cases: \", confirmed_case))\n",
    "# Get the total tested cases worldwide\n",
    "tested_case <- sum(covid_data_frame_csv[\"tested\"])\n",
    "print(paste(\"tested cases: \", tested_case))\n",
    "\n",
    "# Get the positive ratio (confirmed / tested)\n",
    "ratio<- confirmed_case/tested_case\n",
    "print(paste(\"positive ratio (confirmed / tested): \", ratio))\n"
   ]
  },
  {
   "cell_type": "markdown",
   "metadata": {},
   "source": [
    "## TASK 6: Get a country list which reported their testing data \n",
    "\n",
    "The goal of task 6 is to get a catalog or sorted list of countries who have reported their COVID-19 testing data\n"
   ]
  },
  {
   "cell_type": "code",
   "execution_count": 17,
   "metadata": {},
   "outputs": [
    {
     "data": {
      "text/html": [
       "'factor'"
      ],
      "text/latex": [
       "'factor'"
      ],
      "text/markdown": [
       "'factor'"
      ],
      "text/plain": [
       "[1] \"factor\""
      ]
     },
     "metadata": {},
     "output_type": "display_data"
    },
    {
     "name": "stdout",
     "output_type": "stream",
     "text": [
      "  [1] \"Zimbabwe\"               \"Zambia\"                 \"Vietnam\"               \n",
      "  [4] \"Venezuela\"              \"Uzbekistan\"             \"Uruguay\"               \n",
      "  [7] \"United States\"          \"United Kingdom\"         \"United Arab Emirates\"  \n",
      " [10] \"Ukraine\"                \"Uganda\"                 \"Turkey\"                \n",
      " [13] \"Tunisia\"                \"Trinidad and Tobago\"    \"Togo\"                  \n",
      " [16] \"Thailand\"               \"Tanzania\"               \"Taiwan[m]\"             \n",
      " [19] \"Switzerland[l]\"         \"Sweden\"                 \"Sudan\"                 \n",
      " [22] \"Sri Lanka\"              \"Spain\"                  \"South Sudan\"           \n",
      " [25] \"South Korea\"            \"South Africa\"           \"Slovenia\"              \n",
      " [28] \"Slovakia\"               \"Singapore\"              \"Serbia\"                \n",
      " [31] \"Senegal\"                \"Saudi Arabia\"           \"San Marino\"            \n",
      " [34] \"Saint Vincent\"          \"Saint Lucia\"            \"Saint Kitts and Nevis\" \n",
      " [37] \"Rwanda\"                 \"Russia\"                 \"Romania\"               \n",
      " [40] \"Qatar\"                  \"Portugal\"               \"Poland\"                \n",
      " [43] \"Philippines\"            \"Peru\"                   \"Paraguay\"              \n",
      " [46] \"Papua New Guinea\"       \"Panama\"                 \"Palestine\"             \n",
      " [49] \"Pakistan\"               \"Oman\"                   \"Norway\"                \n",
      " [52] \"Northern Cyprus[k]\"     \"North Macedonia\"        \"North Korea\"           \n",
      " [55] \"Nigeria\"                \"Niger\"                  \"New Zealand\"           \n",
      " [58] \"New Caledonia\"          \"Netherlands\"            \"Nepal\"                 \n",
      " [61] \"Namibia\"                \"Myanmar\"                \"Mozambique\"            \n",
      " [64] \"Morocco\"                \"Montenegro\"             \"Mongolia\"              \n",
      " [67] \"Moldova[j]\"             \"Mexico\"                 \"Mauritius\"             \n",
      " [70] \"Mauritania\"             \"Malta\"                  \"Mali\"                  \n",
      " [73] \"Maldives\"               \"Malaysia\"               \"Malawi\"                \n",
      " [76] \"Madagascar\"             \"Luxembourg[i]\"          \"Lithuania\"             \n",
      " [79] \"Libya\"                  \"Liberia\"                \"Lesotho\"               \n",
      " [82] \"Lebanon\"                \"Latvia\"                 \"Laos\"                  \n",
      " [85] \"Kyrgyzstan\"             \"Kuwait\"                 \"Kosovo\"                \n",
      " [88] \"Kenya\"                  \"Kazakhstan\"             \"Jordan\"                \n",
      " [91] \"Japan\"                  \"Jamaica\"                \"Ivory Coast\"           \n",
      " [94] \"Italy\"                  \"Israel\"                 \"Ireland\"               \n",
      " [97] \"Iraq\"                   \"Iran\"                   \"Indonesia\"             \n",
      "[100] \"India\"                  \"Iceland\"                \"Hungary\"               \n",
      "[103] \"Honduras\"               \"Haiti\"                  \"Guyana\"                \n",
      "[106] \"Guinea-Bissau\"          \"Guinea\"                 \"Guatemala\"             \n",
      "[109] \"Grenada\"                \"Greenland\"              \"Greece\"                \n",
      "[112] \"Ghana\"                  \"Germany\"                \"Georgia[h]\"            \n",
      "[115] \"Gambia\"                 \"Gabon\"                  \"France[f][g]\"          \n",
      "[118] \"Finland\"                \"Fiji\"                   \"Faroe Islands\"         \n",
      "[121] \"Ethiopia\"               \"Eswatini\"               \"Estonia\"               \n",
      "[124] \"Equatorial Guinea\"      \"El Salvador\"            \"Egypt\"                 \n",
      "[127] \"Ecuador\"                \"DR Congo\"               \"Dominican Republic\"    \n",
      "[130] \"Dominica\"               \"Djibouti\"               \"Denmark[e]\"            \n",
      "[133] \"Czechia\"                \"Cyprus[d]\"              \"Cuba\"                  \n",
      "[136] \"Croatia\"                \"Costa Rica\"             \"Colombia\"              \n",
      "[139] \"China[c]\"               \"Chile\"                  \"Chad\"                  \n",
      "[142] \"Canada\"                 \"Cameroon\"               \"Cambodia\"              \n",
      "[145] \"Burundi\"                \"Burkina Faso\"           \"Bulgaria\"              \n",
      "[148] \"Brunei\"                 \"Brazil\"                 \"Botswana\"              \n",
      "[151] \"Bosnia and Herzegovina\" \"Bolivia\"                \"Bhutan\"                \n",
      "[154] \"Benin\"                  \"Belize\"                 \"Belgium\"               \n",
      "[157] \"Belarus\"                \"Barbados\"               \"Bangladesh\"            \n",
      "[160] \"Bahrain\"                \"Bahamas\"                \"Azerbaijan\"            \n",
      "[163] \"Austria\"                \"Australia\"              \"Armenia\"               \n",
      "[166] \"Argentina\"              \"Antigua and Barbuda\"    \"Angola\"                \n",
      "[169] \"Andorra\"                \"Algeria\"                \"Albania\"               \n",
      "[172] \"Afghanistan\"           \n"
     ]
    }
   ],
   "source": [
    "# Get the `country` column\n",
    "covid_country<-  covid_data_frame_csv$country\n",
    "\n",
    "# Check its class (should be Factor)\n",
    "\n",
    "class(covid_country)\n",
    "\n",
    "# Convert the country column into character so that it can be easily sorted\n",
    " covid_country<- as.character(covid_data_frame_csv$country)\n",
    "\n",
    "# Sort the countries AtoZ\n",
    "covid_country_AtoZ<- sort(covid_country)\n",
    "# Sort the countries ZtoA\n",
    "covid_country_ZtoA <-sort(covid_country,decreasing = TRUE)\n",
    "# Print the sorted ZtoA list\n",
    "print(covid_country_ZtoA)\n"
   ]
  },
  {
   "cell_type": "markdown",
   "metadata": {},
   "source": [
    "## TASK 7: Identify countries names with a specific pattern\n",
    "\n",
    "The goal of task 7 is using a regular expression to find any countires start with `United`\n"
   ]
  },
  {
   "cell_type": "code",
   "execution_count": 18,
   "metadata": {},
   "outputs": [
    {
     "data": {
      "text/html": [
       "<ol class=list-inline>\n",
       "\t<li>'United Arab Emirates'</li>\n",
       "\t<li>'United Kingdom'</li>\n",
       "\t<li>'United States'</li>\n",
       "</ol>\n"
      ],
      "text/latex": [
       "\\begin{enumerate*}\n",
       "\\item 'United Arab Emirates'\n",
       "\\item 'United Kingdom'\n",
       "\\item 'United States'\n",
       "\\end{enumerate*}\n"
      ],
      "text/markdown": [
       "1. 'United Arab Emirates'\n",
       "2. 'United Kingdom'\n",
       "3. 'United States'\n",
       "\n",
       "\n"
      ],
      "text/plain": [
       "[1] \"United Arab Emirates\" \"United Kingdom\"       \"United States\"       "
      ]
     },
     "metadata": {},
     "output_type": "display_data"
    },
    {
     "data": {
      "text/html": [
       "<ol class=list-inline>\n",
       "\t<li>'United Arab Emirates'</li>\n",
       "\t<li>'United Kingdom'</li>\n",
       "\t<li>'United States'</li>\n",
       "</ol>\n"
      ],
      "text/latex": [
       "\\begin{enumerate*}\n",
       "\\item 'United Arab Emirates'\n",
       "\\item 'United Kingdom'\n",
       "\\item 'United States'\n",
       "\\end{enumerate*}\n"
      ],
      "text/markdown": [
       "1. 'United Arab Emirates'\n",
       "2. 'United Kingdom'\n",
       "3. 'United States'\n",
       "\n",
       "\n"
      ],
      "text/plain": [
       "[1] \"United Arab Emirates\" \"United Kingdom\"       \"United States\"       "
      ]
     },
     "metadata": {},
     "output_type": "display_data"
    }
   ],
   "source": [
    "# Use a regular expression `United.+` to find matches\n",
    "\n",
    "matches <- regexpr(\"United.+\", covid_data_frame_csv$country)\n",
    "\n",
    "# Print the matched country names\n",
    "regmatches(covid_data_frame_csv$country, matches)\n",
    "\n",
    "#alternet way\n",
    "grep(\"United.+\",  covid_data_frame_csv$country,value = TRUE)"
   ]
  },
  {
   "cell_type": "markdown",
   "metadata": {},
   "source": [
    "## TASK 8: Pick two countries you are interested, and then review their testing data\n",
    "\n",
    "The goal of task 8 is to compare the COVID-19 test data between two countires, you will need to select two rows from the dataframe, and select `country`, `confirmed`, `confirmed-population-ratio` columns\n"
   ]
  },
  {
   "cell_type": "code",
   "execution_count": 19,
   "metadata": {},
   "outputs": [
    {
     "data": {
      "text/html": [
       "<table>\n",
       "<thead><tr><th></th><th scope=col>country</th><th scope=col>confirmed</th><th scope=col>confirmed.population.ratio</th></tr></thead>\n",
       "<tbody>\n",
       "\t<tr><th scope=row>14</th><td>Bangladesh</td><td>1151644   </td><td>0.7       </td></tr>\n",
       "</tbody>\n",
       "</table>\n"
      ],
      "text/latex": [
       "\\begin{tabular}{r|lll}\n",
       "  & country & confirmed & confirmed.population.ratio\\\\\n",
       "\\hline\n",
       "\t14 & Bangladesh & 1151644    & 0.7       \\\\\n",
       "\\end{tabular}\n"
      ],
      "text/markdown": [
       "\n",
       "| <!--/--> | country | confirmed | confirmed.population.ratio |\n",
       "|---|---|---|---|\n",
       "| 14 | Bangladesh | 1151644    | 0.7        |\n",
       "\n"
      ],
      "text/plain": [
       "   country    confirmed confirmed.population.ratio\n",
       "14 Bangladesh 1151644   0.7                       "
      ]
     },
     "metadata": {},
     "output_type": "display_data"
    },
    {
     "data": {
      "text/html": [
       "<table>\n",
       "<thead><tr><th></th><th scope=col>country</th><th scope=col>confirmed</th><th scope=col>confirmed.population.ratio</th></tr></thead>\n",
       "<tbody>\n",
       "\t<tr><th scope=row>166</th><td>United States</td><td>90749469     </td><td>27.4         </td></tr>\n",
       "</tbody>\n",
       "</table>\n"
      ],
      "text/latex": [
       "\\begin{tabular}{r|lll}\n",
       "  & country & confirmed & confirmed.population.ratio\\\\\n",
       "\\hline\n",
       "\t166 & United States & 90749469      & 27.4         \\\\\n",
       "\\end{tabular}\n"
      ],
      "text/markdown": [
       "\n",
       "| <!--/--> | country | confirmed | confirmed.population.ratio |\n",
       "|---|---|---|---|\n",
       "| 166 | United States | 90749469      | 27.4          |\n",
       "\n"
      ],
      "text/plain": [
       "    country       confirmed confirmed.population.ratio\n",
       "166 United States 90749469  27.4                      "
      ]
     },
     "metadata": {},
     "output_type": "display_data"
    }
   ],
   "source": [
    "# Select a subset (should be only one row) of data frame based on a selected country name and columns\n",
    "\n",
    "country1<- covid_data_frame_csv[covid_data_frame_csv$country==\"Bangladesh\",c(\"country\" ,\"confirmed\",\"confirmed.population.ratio\" )]\n",
    "country1\n",
    "# Select a subset (should be only one row) of data frame based on a selected country name and columns\n",
    "country2<- covid_data_frame_csv[covid_data_frame_csv$country==\"United States\",c(\"country\" ,\"confirmed\",\"confirmed.population.ratio\" )]\n",
    "country2\n"
   ]
  },
  {
   "cell_type": "markdown",
   "metadata": {},
   "source": [
    "## TASK 9: Compare which one of the selected countries has a larger ratio of confirmed cases to population\n",
    "\n",
    "The goal of task 9 is to find out which country you have selected before has larger ratio of confirmed cases to population, which may indicate that country has higher COVID-19 infection risk\n"
   ]
  },
  {
   "cell_type": "code",
   "execution_count": 20,
   "metadata": {},
   "outputs": [
    {
     "name": "stdout",
     "output_type": "stream",
     "text": [
      "[1] \" USA has larger ratio of confirmed cases to population\"\n"
     ]
    }
   ],
   "source": [
    "\n",
    "if (country1$confirmed.population.ratio>country2$confirmed.population.ratio){\n",
    "    print(\" Bangladesh has larger ratio of confirmed cases to population\")\n",
    "} else{\n",
    "    print(\" USA has larger ratio of confirmed cases to population\")\n",
    "    }\n"
   ]
  },
  {
   "cell_type": "markdown",
   "metadata": {},
   "source": [
    "## TASK 10: Find countries with confirmed to population ratio rate less than a threshold\n",
    "\n",
    "The goal of task 10 is to find out which countries have the confirmed to population ratio less than 1%, it may indicate the risk of those countries are relatively low\n"
   ]
  },
  {
   "cell_type": "code",
   "execution_count": 21,
   "metadata": {},
   "outputs": [
    {
     "data": {
      "text/html": [
       "<table>\n",
       "<thead><tr><th></th><th scope=col>X</th><th scope=col>country</th><th scope=col>date</th><th scope=col>tested</th><th scope=col>confirmed</th><th scope=col>confirmed.tested.ratio</th><th scope=col>tested.population.ratio</th><th scope=col>confirmed.population.ratio</th></tr></thead>\n",
       "<tbody>\n",
       "\t<tr><th scope=row>28</th><td> 28        </td><td>Burundi    </td><td>2021-01-05 </td><td>    90019  </td><td>  884      </td><td> 0.980     </td><td> 0.7600    </td><td>0.00740    </td></tr>\n",
       "\t<tr><th scope=row>34</th><td> 34        </td><td>China[c]   </td><td>2020-07-31 </td><td>160000000  </td><td>87655      </td><td> 0.055     </td><td>11.1000    </td><td>0.00610    </td></tr>\n",
       "\t<tr><th scope=row>89</th><td> 89        </td><td>Laos       </td><td>2021-03-01 </td><td>   114030  </td><td>   45      </td><td> 0.039     </td><td> 1.6000    </td><td>0.00063    </td></tr>\n",
       "\t<tr><th scope=row>119</th><td>119        </td><td>North Korea</td><td>2020-11-25 </td><td>    16914  </td><td>    0      </td><td> 0.000     </td><td> 0.0660    </td><td>0.00000    </td></tr>\n",
       "\t<tr><th scope=row>156</th><td>156        </td><td>Tanzania   </td><td>2020-11-18 </td><td>     3880  </td><td>  509      </td><td>13.100     </td><td> 0.0065    </td><td>0.00085    </td></tr>\n",
       "</tbody>\n",
       "</table>\n"
      ],
      "text/latex": [
       "\\begin{tabular}{r|llllllll}\n",
       "  & X & country & date & tested & confirmed & confirmed.tested.ratio & tested.population.ratio & confirmed.population.ratio\\\\\n",
       "\\hline\n",
       "\t28 &  28         & Burundi     & 2021-01-05  &     90019   &   884       &  0.980      &  0.7600     & 0.00740    \\\\\n",
       "\t34 &  34             & China{[}c{]}    & 2020-07-31      & 160000000       & 87655           &  0.055          & 11.1000         & 0.00610        \\\\\n",
       "\t89 &  89         & Laos        & 2021-03-01  &    114030   &    45       &  0.039      &  1.6000     & 0.00063    \\\\\n",
       "\t119 & 119         & North Korea & 2020-11-25  &     16914   &     0       &  0.000      &  0.0660     & 0.00000    \\\\\n",
       "\t156 & 156         & Tanzania    & 2020-11-18  &      3880   &   509       & 13.100      &  0.0065     & 0.00085    \\\\\n",
       "\\end{tabular}\n"
      ],
      "text/markdown": [
       "\n",
       "| <!--/--> | X | country | date | tested | confirmed | confirmed.tested.ratio | tested.population.ratio | confirmed.population.ratio |\n",
       "|---|---|---|---|---|---|---|---|---|\n",
       "| 28 |  28         | Burundi     | 2021-01-05  |     90019   |   884       |  0.980      |  0.7600     | 0.00740     |\n",
       "| 34 |  34         | China[c]    | 2020-07-31  | 160000000   | 87655       |  0.055      | 11.1000     | 0.00610     |\n",
       "| 89 |  89         | Laos        | 2021-03-01  |    114030   |    45       |  0.039      |  1.6000     | 0.00063     |\n",
       "| 119 | 119         | North Korea | 2020-11-25  |     16914   |     0       |  0.000      |  0.0660     | 0.00000     |\n",
       "| 156 | 156         | Tanzania    | 2020-11-18  |      3880   |   509       | 13.100      |  0.0065     | 0.00085     |\n",
       "\n"
      ],
      "text/plain": [
       "    X   country     date       tested    confirmed confirmed.tested.ratio\n",
       "28   28 Burundi     2021-01-05     90019   884      0.980                \n",
       "34   34 China[c]    2020-07-31 160000000 87655      0.055                \n",
       "89   89 Laos        2021-03-01    114030    45      0.039                \n",
       "119 119 North Korea 2020-11-25     16914     0      0.000                \n",
       "156 156 Tanzania    2020-11-18      3880   509     13.100                \n",
       "    tested.population.ratio confirmed.population.ratio\n",
       "28   0.7600                 0.00740                   \n",
       "34  11.1000                 0.00610                   \n",
       "89   1.6000                 0.00063                   \n",
       "119  0.0660                 0.00000                   \n",
       "156  0.0065                 0.00085                   "
      ]
     },
     "metadata": {},
     "output_type": "display_data"
    }
   ],
   "source": [
    "# Get a subset of any countries with `confirmed.population.ratio` less than the threshold\n",
    "\n",
    "less_ratiorate <- covid_data_frame_csv[covid_data_frame_csv$confirmed.population.ratio < 0.01,]\n",
    "less_ratiorate"
   ]
  }
 ],
 "metadata": {
  "kernelspec": {
   "display_name": "R",
   "language": "R",
   "name": "ir"
  },
  "language_info": {
   "codemirror_mode": "r",
   "file_extension": ".r",
   "mimetype": "text/x-r-source",
   "name": "R",
   "pygments_lexer": "r",
   "version": "3.6.1"
  }
 },
 "nbformat": 4,
 "nbformat_minor": 4
}
